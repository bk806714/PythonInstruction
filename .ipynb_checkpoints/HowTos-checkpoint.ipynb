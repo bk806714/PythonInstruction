{
 "cells": [
  {
   "cell_type": "markdown",
   "id": "entertaining-cartoon",
   "metadata": {},
   "source": [
    "## IMPORT LIBRARIES"
   ]
  },
  {
   "cell_type": "code",
   "execution_count": 1,
   "id": "legislative-championship",
   "metadata": {},
   "outputs": [],
   "source": [
    "import sys,os,time\n",
    "import numpy as np\n",
    "import pandas as pd\n",
    "os.environ['MPLCONFIGDIR'] = \"/w/halla-scshelf2102/solid/bishnu/RC_plots/pol_Bishnu/\"\n",
    "#import matplotlib as plt\n",
    "import matplotlib.pyplot as plt\n",
    "plt.rc('text',usetex=True)\n",
    "plt.rc('font', family='Times Roman')\n",
    "plt.rc('font',weight='bold')\n",
    "plt.rcParams['axes.linewidth'] = 1\n",
    "\n",
    "\n",
    "plt.rcParams[\"font.weight\"] = \"bold\"\n",
    "plt.rcParams[\"axes.labelweight\"] = \"bold\"\n",
    "plt.rcParams['font.family'] = \"Times Roman\"\n",
    "\n",
    "plt.rcParams['xtick.major.pad'] = 2\n",
    "plt.rcParams['ytick.major.pad'] = 0\n",
    "plt.rcParams['text.latex.preamble']=r\"\\usepackage{bm} \\usepackage{amsmath}\"\n",
    "from matplotlib.legend_handler import HandlerLine2D\n",
    "from matplotlib.colors import LogNorm"
   ]
  },
  {
   "cell_type": "markdown",
   "id": "faced-carbon",
   "metadata": {},
   "source": [
    "##  Read a TEXT FILE IN PANDAS"
   ]
  },
  {
   "cell_type": "code",
   "execution_count": null,
   "id": "unlike-messenger",
   "metadata": {},
   "outputs": [],
   "source": [
    "pathmlFile=\"/w/halla-scshelf2102/solid/bishnu/DUKE/Cherenkov/maroc_mirazita/solid/\"\n",
    "filename370Signal=\"signalLED_bgLED370_run2337_fadc.ml\""
   ]
  },
  {
   "cell_type": "code",
   "execution_count": null,
   "id": "split-publication",
   "metadata": {},
   "outputs": [],
   "source": [
    "data370Signal[\"sum370Signal\"] = data370Signal.sum(axis=1)"
   ]
  },
  {
   "cell_type": "code",
   "execution_count": null,
   "id": "oriented-parliament",
   "metadata": {},
   "outputs": [],
   "source": []
  },
  {
   "cell_type": "code",
   "execution_count": null,
   "id": "acknowledged-prescription",
   "metadata": {},
   "outputs": [],
   "source": [
    "data370Signal[\"sum370Signal\"] = data370Signal.sum(axis=1)"
   ]
  },
  {
   "cell_type": "code",
   "execution_count": null,
   "id": "alternate-coating",
   "metadata": {},
   "outputs": [],
   "source": []
  },
  {
   "cell_type": "code",
   "execution_count": null,
   "id": "referenced-italian",
   "metadata": {},
   "outputs": [],
   "source": [
    "max_range=80\n",
    "#print(data370Signal.max(axis=1))\n",
    "ax=data370Signal.hist(column='maxVal', bins=max_range,range=(1,max_range), color='r', ylabelsize=20,   xlabelsize=20, figsize=(10,8))\n",
    "plt.ylabel(\"Probablity\", size=15)\n",
    "plt.xlabel(\"NPE\",fontsize=30)\n",
    "\n",
    "plt.title(\"\")\n",
    "plt.xlim(0,90)\n",
    "plt.ylim(0,1200)\n",
    "plt.legend(['kera'])\n",
    "plt.xticks(fontsize=20)"
   ]
  }
 ],
 "metadata": {
  "kernelspec": {
   "display_name": "Python 3",
   "language": "python",
   "name": "python3"
  },
  "language_info": {
   "codemirror_mode": {
    "name": "ipython",
    "version": 3
   },
   "file_extension": ".py",
   "mimetype": "text/x-python",
   "name": "python",
   "nbconvert_exporter": "python",
   "pygments_lexer": "ipython3",
   "version": "3.8.6"
  }
 },
 "nbformat": 4,
 "nbformat_minor": 5
}
