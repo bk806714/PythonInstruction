{
 "cells": [
  {
   "cell_type": "markdown",
   "id": "protected-olympus",
   "metadata": {},
   "source": [
    "## IMPORT LIBRARIES"
   ]
  },
  {
   "cell_type": "code",
   "execution_count": 21,
   "id": "seventh-morrison",
   "metadata": {},
   "outputs": [],
   "source": [
    "import sys,os,time\n",
    "import numpy as np\n",
    "import pandas as pd\n",
    "os.environ['MPLCONFIGDIR'] = \"/w/halla-scshelf2102/solid/bishnu/RC_plots/pol_Bishnu/\"\n",
    "#import matplotlib as plt\n",
    "import matplotlib.pyplot as plt\n",
    "plt.rc('text',usetex=True)\n",
    "plt.rc('font', family='Times Roman')\n",
    "plt.rc('font',weight='bold')\n",
    "plt.rcParams['axes.linewidth'] = 1\n",
    "\n",
    "\n",
    "plt.rcParams[\"font.weight\"] = \"bold\"\n",
    "plt.rcParams[\"axes.labelweight\"] = \"bold\"\n",
    "plt.rcParams['font.family'] = \"Times Roman\"\n",
    "\n",
    "plt.rcParams['xtick.major.pad'] = 2\n",
    "plt.rcParams['ytick.major.pad'] = 0\n",
    "plt.rcParams['text.latex.preamble']=r\"\\usepackage{bm} \\usepackage{amsmath}\"\n",
    "from matplotlib.legend_handler import HandlerLine2D\n",
    "from matplotlib.colors import LogNorm"
   ]
  },
  {
   "cell_type": "markdown",
   "id": "viral-civilian",
   "metadata": {},
   "source": [
    "##  Read a TEXT FILE IN PANDAS"
   ]
  },
  {
   "cell_type": "code",
   "execution_count": 22,
   "id": "indirect-government",
   "metadata": {},
   "outputs": [
    {
     "data": {
      "text/html": [
       "<div>\n",
       "<style scoped>\n",
       "    .dataframe tbody tr th:only-of-type {\n",
       "        vertical-align: middle;\n",
       "    }\n",
       "\n",
       "    .dataframe tbody tr th {\n",
       "        vertical-align: top;\n",
       "    }\n",
       "\n",
       "    .dataframe thead th {\n",
       "        text-align: right;\n",
       "    }\n",
       "</style>\n",
       "<table border=\"1\" class=\"dataframe\">\n",
       "  <thead>\n",
       "    <tr style=\"text-align: right;\">\n",
       "      <th></th>\n",
       "      <th>1</th>\n",
       "      <th>2</th>\n",
       "      <th>3</th>\n",
       "      <th>4</th>\n",
       "      <th>5</th>\n",
       "      <th>6</th>\n",
       "      <th>7</th>\n",
       "      <th>8</th>\n",
       "      <th>9</th>\n",
       "      <th>10</th>\n",
       "      <th>...</th>\n",
       "      <th>51</th>\n",
       "      <th>52</th>\n",
       "      <th>53</th>\n",
       "      <th>54</th>\n",
       "      <th>55</th>\n",
       "      <th>56</th>\n",
       "      <th>57</th>\n",
       "      <th>58</th>\n",
       "      <th>59</th>\n",
       "      <th>60</th>\n",
       "    </tr>\n",
       "    <tr>\n",
       "      <th>0</th>\n",
       "      <th></th>\n",
       "      <th></th>\n",
       "      <th></th>\n",
       "      <th></th>\n",
       "      <th></th>\n",
       "      <th></th>\n",
       "      <th></th>\n",
       "      <th></th>\n",
       "      <th></th>\n",
       "      <th></th>\n",
       "      <th></th>\n",
       "      <th></th>\n",
       "      <th></th>\n",
       "      <th></th>\n",
       "      <th></th>\n",
       "      <th></th>\n",
       "      <th></th>\n",
       "      <th></th>\n",
       "      <th></th>\n",
       "      <th></th>\n",
       "      <th></th>\n",
       "    </tr>\n",
       "  </thead>\n",
       "  <tbody>\n",
       "    <tr>\n",
       "      <th>0</th>\n",
       "      <td>0.05</td>\n",
       "      <td>0.00</td>\n",
       "      <td>0.00</td>\n",
       "      <td>0.00</td>\n",
       "      <td>0.00</td>\n",
       "      <td>1.47</td>\n",
       "      <td>0.00</td>\n",
       "      <td>0.00</td>\n",
       "      <td>0.0</td>\n",
       "      <td>0.00</td>\n",
       "      <td>...</td>\n",
       "      <td>0.05</td>\n",
       "      <td>0.0</td>\n",
       "      <td>3.87</td>\n",
       "      <td>0.00</td>\n",
       "      <td>0.0</td>\n",
       "      <td>0.00</td>\n",
       "      <td>0.00</td>\n",
       "      <td>0.0</td>\n",
       "      <td>0.20</td>\n",
       "      <td>0.53</td>\n",
       "    </tr>\n",
       "    <tr>\n",
       "      <th>1</th>\n",
       "      <td>0.00</td>\n",
       "      <td>0.00</td>\n",
       "      <td>0.00</td>\n",
       "      <td>1.35</td>\n",
       "      <td>0.00</td>\n",
       "      <td>0.00</td>\n",
       "      <td>0.00</td>\n",
       "      <td>0.00</td>\n",
       "      <td>0.0</td>\n",
       "      <td>0.00</td>\n",
       "      <td>...</td>\n",
       "      <td>0.00</td>\n",
       "      <td>0.0</td>\n",
       "      <td>1.20</td>\n",
       "      <td>0.14</td>\n",
       "      <td>0.0</td>\n",
       "      <td>2.73</td>\n",
       "      <td>0.00</td>\n",
       "      <td>0.0</td>\n",
       "      <td>0.23</td>\n",
       "      <td>0.64</td>\n",
       "    </tr>\n",
       "    <tr>\n",
       "      <th>2</th>\n",
       "      <td>0.00</td>\n",
       "      <td>0.00</td>\n",
       "      <td>0.00</td>\n",
       "      <td>0.00</td>\n",
       "      <td>0.00</td>\n",
       "      <td>0.00</td>\n",
       "      <td>0.00</td>\n",
       "      <td>0.00</td>\n",
       "      <td>0.0</td>\n",
       "      <td>0.00</td>\n",
       "      <td>...</td>\n",
       "      <td>0.00</td>\n",
       "      <td>0.0</td>\n",
       "      <td>0.00</td>\n",
       "      <td>0.00</td>\n",
       "      <td>0.0</td>\n",
       "      <td>0.93</td>\n",
       "      <td>0.00</td>\n",
       "      <td>0.0</td>\n",
       "      <td>0.20</td>\n",
       "      <td>0.00</td>\n",
       "    </tr>\n",
       "    <tr>\n",
       "      <th>3</th>\n",
       "      <td>0.14</td>\n",
       "      <td>0.00</td>\n",
       "      <td>0.00</td>\n",
       "      <td>0.00</td>\n",
       "      <td>0.00</td>\n",
       "      <td>0.00</td>\n",
       "      <td>3.02</td>\n",
       "      <td>0.00</td>\n",
       "      <td>0.0</td>\n",
       "      <td>0.08</td>\n",
       "      <td>...</td>\n",
       "      <td>0.00</td>\n",
       "      <td>0.0</td>\n",
       "      <td>0.00</td>\n",
       "      <td>0.00</td>\n",
       "      <td>0.0</td>\n",
       "      <td>0.32</td>\n",
       "      <td>0.00</td>\n",
       "      <td>0.0</td>\n",
       "      <td>0.00</td>\n",
       "      <td>1.52</td>\n",
       "    </tr>\n",
       "    <tr>\n",
       "      <th>4</th>\n",
       "      <td>0.15</td>\n",
       "      <td>1.29</td>\n",
       "      <td>0.08</td>\n",
       "      <td>0.00</td>\n",
       "      <td>0.14</td>\n",
       "      <td>0.21</td>\n",
       "      <td>0.12</td>\n",
       "      <td>0.12</td>\n",
       "      <td>0.0</td>\n",
       "      <td>0.26</td>\n",
       "      <td>...</td>\n",
       "      <td>0.00</td>\n",
       "      <td>0.0</td>\n",
       "      <td>0.00</td>\n",
       "      <td>0.06</td>\n",
       "      <td>0.0</td>\n",
       "      <td>0.00</td>\n",
       "      <td>0.29</td>\n",
       "      <td>0.0</td>\n",
       "      <td>0.00</td>\n",
       "      <td>0.00</td>\n",
       "    </tr>\n",
       "  </tbody>\n",
       "</table>\n",
       "<p>5 rows × 60 columns</p>\n",
       "</div>"
      ],
      "text/plain": [
       "     1     2     3     4     5     6     7     8    9     10  ...    51   52  \\\n",
       "0                                                             ...              \n",
       "0  0.05  0.00  0.00  0.00  0.00  1.47  0.00  0.00  0.0  0.00  ...  0.05  0.0   \n",
       "1  0.00  0.00  0.00  1.35  0.00  0.00  0.00  0.00  0.0  0.00  ...  0.00  0.0   \n",
       "2  0.00  0.00  0.00  0.00  0.00  0.00  0.00  0.00  0.0  0.00  ...  0.00  0.0   \n",
       "3  0.14  0.00  0.00  0.00  0.00  0.00  3.02  0.00  0.0  0.08  ...  0.00  0.0   \n",
       "4  0.15  1.29  0.08  0.00  0.14  0.21  0.12  0.12  0.0  0.26  ...  0.00  0.0   \n",
       "\n",
       "     53    54   55    56    57   58    59    60  \n",
       "0                                                \n",
       "0  3.87  0.00  0.0  0.00  0.00  0.0  0.20  0.53  \n",
       "1  1.20  0.14  0.0  2.73  0.00  0.0  0.23  0.64  \n",
       "2  0.00  0.00  0.0  0.93  0.00  0.0  0.20  0.00  \n",
       "3  0.00  0.00  0.0  0.32  0.00  0.0  0.00  1.52  \n",
       "4  0.00  0.06  0.0  0.00  0.29  0.0  0.00  0.00  \n",
       "\n",
       "[5 rows x 60 columns]"
      ]
     },
     "execution_count": 22,
     "metadata": {},
     "output_type": "execute_result"
    }
   ],
   "source": [
    "pathmlFile=\"./\"\n",
    "filename370Signal=\"signalLED_bgLED370_run2337_fadc.ml\"\n",
    "data370Signal=pd.read_csv(f\"{pathmlFile}{filename370Signal}\", delimiter=r\"\\s+\",index_col=0, header=None)\n",
    "data370Signal.head()"
   ]
  },
  {
   "cell_type": "markdown",
   "id": "outstanding-trigger",
   "metadata": {},
   "source": [
    "## CHECK THE DATA TYPES"
   ]
  },
  {
   "cell_type": "code",
   "execution_count": 24,
   "id": "handy-landscape",
   "metadata": {},
   "outputs": [],
   "source": [
    "data370Signal.dtypes"
   ]
  },
  {
   "cell_type": "markdown",
   "id": "seventh-playlist",
   "metadata": {},
   "source": [
    "## CONVERT THE STRING OR OBJECT INTO NUMERIC"
   ]
  },
  {
   "cell_type": "code",
   "execution_count": 26,
   "id": "recreational-mexican",
   "metadata": {},
   "outputs": [],
   "source": [
    "dataDunUnp = dataDunUnp.apply(pd.to_numeric, errors='coerce')\n",
    "\n",
    "## CONVERT ONE BY ONE COLUMN\n",
    "#dataDunUnp['qt_Q'] = dataDunUnp['qt_Q'].astype(float)"
   ]
  },
  {
   "cell_type": "markdown",
   "id": "ordinary-converter",
   "metadata": {},
   "source": [
    "## ADD A NEW COLUMN WITH ADD ALL THE ROWS INTO A NEW COLUMN"
   ]
  },
  {
   "cell_type": "code",
   "execution_count": 8,
   "id": "responsible-garage",
   "metadata": {},
   "outputs": [],
   "source": [
    "data370Signal[\"sum370Signal\"] = data370Signal.sum(axis=1)"
   ]
  },
  {
   "cell_type": "markdown",
   "id": "bridal-meeting",
   "metadata": {},
   "source": [
    "## GET MAXIMUM OF THE ROW INTO A NEW COLUMN"
   ]
  },
  {
   "cell_type": "code",
   "execution_count": 4,
   "id": "chicken-gabriel",
   "metadata": {},
   "outputs": [],
   "source": [
    "data370Signal[\"maxVal\"]= data370Signal.max(axis=1)\n",
    "\n",
    "## GET MAXIMUM VALUE FOR THE COLUMN 0:60 IN A ROW  e.g [0, 1, 5, 8] THEN NEW ROW WILL BE 8\n",
    "#data370Signal[\"maxVal370S\"]= data370Signal.iloc[:,:60].max(axis=1)"
   ]
  },
  {
   "cell_type": "markdown",
   "id": "lonely-stack",
   "metadata": {},
   "source": [
    "## REMOVE THE ROWS IF VALUES OF GIVEN COLUMN DOES NOT PASS THE THRESHOLD"
   ]
  },
  {
   "cell_type": "code",
   "execution_count": null,
   "id": "fuzzy-thursday",
   "metadata": {},
   "outputs": [],
   "source": [
    "data370Signal = data370Signal[data370Signal['maxVal370S'].gt(7)]"
   ]
  },
  {
   "cell_type": "markdown",
   "id": "partial-terrain",
   "metadata": {},
   "source": [
    "## COSMITIC OF THE PLT.HIST LIKE MAKE MULTIPLE PLOTS "
   ]
  },
  {
   "cell_type": "code",
   "execution_count": 20,
   "id": "acoustic-auditor",
   "metadata": {},
   "outputs": [
    {
     "name": "stdout",
     "output_type": "stream",
     "text": [
      "1287   20000  0.06435\n"
     ]
    },
    {
     "data": {
      "image/png": "[encoded data removed]",
      "text/plain": [
       "<Figure size 720x576 with 1 Axes>"
      ]
     },
     "metadata": {
      "needs_background": "light"
     },
     "output_type": "display_data"
    }
   ],
   "source": [
    "max_range=80\n",
    "ax=data370Signal.hist(column='maxVal', bins=max_range,range=(1,max_range), color='r', ylabelsize=20, linestyle='solid',  label='test' ,xlabelsize=20, linewidth=4.0,figsize=(10,8))\n",
    "plt.ylabel(\"Probablity\", size=15)\n",
    "plt.xlabel(\"Max. NPE in a quadrant \",fontsize=30)\n",
    "labels=['kera']\n",
    "plt.title(\"\")\n",
    "plt.xlim(0,90)\n",
    "#plt.ylim(0,800)\n",
    "plt.xticks(fontsize=20)\n",
    "#plt.legend(fontsize=20)\n",
    "deno=len(data370Signal['maxVal'])\n",
    "num=len(data370Signal[data370Signal['maxVal'] > 11])\n",
    "\n",
    "print(num,\" \",deno,\"\", num/deno)"
   ]
  },
  {
   "cell_type": "markdown",
   "id": "cubic-analyst",
   "metadata": {},
   "source": [
    "## FORMATTING "
   ]
  },
  {
   "cell_type": "code",
   "execution_count": 21,
   "id": "distant-engine",
   "metadata": {},
   "outputs": [
    {
     "data": {
      "text/plain": [
       "qt      float64\n",
       "born    float64\n",
       "rc      float64\n",
       "err     float64\n",
       "dtype: object"
      ]
     },
     "execution_count": 21,
     "metadata": {},
     "output_type": "execute_result"
    }
   ],
   "source": [
    "def BisToDun(Q2):\n",
    "    #conversion=0\n",
    "    if Q2==8 or Q2==100:\n",
    "        conversion=2\n",
    "    elif Q2==15 or Q2==25:\n",
    "        conversion=3\n",
    "    elif Q2==9 or Q2==2:\n",
    "        conversion=1\n",
    "    else: print('Check your Q2 and converstion file')\n",
    "    return conversion\n",
    "Asy=\"Col\"\n",
    "Lab=\"EIC\"\n",
    "Q2=25\n",
    "conversion=BisToDun(Q2)\n",
    "FilePathBis=\"./\"\n",
    "fileNameBishnuUnp=\"Unp_{}{}_const_alpha.txt\".format(Lab,conversion)\n",
    "dataBisUnp=pd.read_csv(f\"{FilePathBis}{fileNameBishnuUnp}\", delimiter=r\"\\s+\",names=[\"qt\",\"born\", \"rc\", \"err\"])\n",
    "dataBisUnp.head()\n",
    "dataBisUnp.dtypes\n"
   ]
  },
  {
   "cell_type": "markdown",
   "id": "subsequent-height",
   "metadata": {},
   "source": [
    "## Changing the data types to numberic "
   ]
  },
  {
   "cell_type": "code",
   "execution_count": null,
   "id": "approximate-basics",
   "metadata": {},
   "outputs": [],
   "source": [
    "dataDunUnp = dataDunUnp.apply(pd.to_numeric, errors='coerce')\n"
   ]
  },
  {
   "cell_type": "markdown",
   "id": "pleased-architecture",
   "metadata": {},
   "source": [
    "### Adding new lines of columns in existing datafiles  (Adding QtDun from one dataframe to \"dataBisUnp\" on Fourth column"
   ]
  },
  {
   "cell_type": "code",
   "execution_count": null,
   "id": "compact-butter",
   "metadata": {},
   "outputs": [],
   "source": [
    "QtDun=dataDun[\"qt_to_Q\"]\n",
    "dataBisUnp.insert(4, \"RCDu\", RcDun)"
   ]
  },
  {
   "cell_type": "code",
   "execution_count": 74,
   "id": "neutral-investment",
   "metadata": {},
   "outputs": [
    {
     "data": {
      "image/png": "[encoded data removed]",
      "text/plain": [
       "<Figure size 1500x1000 with 1 Axes>"
      ]
     },
     "metadata": {},
     "output_type": "display_data"
    }
   ],
   "source": [
    "\n",
    "ax=dataBisUnp.plot(x='qt', y='born', color=\"red\",marker='*', grid=True,linestyle='None', label=\"Factorized\", figsize=(15,10))\n",
    "#plt.rcParams[\"font.weight\"] = \"bold\"\n",
    "## LINESTYLE CAN BE 'solid', 'dashed'\n",
    "ax.set_xlabel(\"$q_{T}$/Q\",fontsize=30)\n",
    "ax.set_ylabel(\"Born Cross-section\",fontsize=30)\n",
    "plt.legend(fontsize=20)\n",
    "plt.xticks(fontsize=20)\n",
    "plt.yticks(fontsize=20)\n",
    "#plt.rc('font', weight='bold')\n",
    "plt.rc('xtick.major', size=5, pad=7)\n",
    "plt.rc('xtick', labelsize=15)\n",
    "#plt.rcdefaults()\n"
   ]
  },
  {
   "cell_type": "code",
   "execution_count": 8,
   "id": "sixth-practitioner",
   "metadata": {},
   "outputs": [
    {
     "name": "stdout",
     "output_type": "stream",
     "text": [
      "0.24197072451914337\n"
     ]
    }
   ],
   "source": [
    "import scipy\n",
    "import numpy as np\n",
    "from scipy import stats\n",
    "\n",
    "x = 1.0\n",
    "pdf_probability = scipy.stats.norm.pdf(x, loc=0, scale=1)\n",
    "\n",
    "print(pdf_probability)"
   ]
  },
  {
   "cell_type": "code",
   "execution_count": 15,
   "id": "fitted-physics",
   "metadata": {},
   "outputs": [
    {
     "data": {
      "text/plain": [
       "0.5"
      ]
     },
     "execution_count": 15,
     "metadata": {},
     "output_type": "execute_result"
    }
   ],
   "source": [
    "scipy.stats.norm(0, 1)\n",
    "scipy.stats.norm(0, 1).pdf(0)\n",
    "scipy.stats.norm(0, 1).cdf(0)\n"
   ]
  },
  {
   "cell_type": "code",
   "execution_count": 8,
   "id": "fancy-fundamentals",
   "metadata": {},
   "outputs": [
    {
     "name": "stdout",
     "output_type": "stream",
     "text": [
      "10.363215211960002\n",
      "2.2634676324128558 , \n",
      "1.5089784216085704 , \n",
      "1.1317338162064279 , \n",
      "0.9053870529651424 , \n",
      "0.7544892108042854 , \n",
      "0.6467050378322446 , \n",
      "0.565866908103214 , \n",
      "0.502992807202857 , \n",
      "0.4526935264825713 , \n",
      "10\n"
     ]
    }
   ],
   "source": [
    "import numpy as np\n",
    "M=0.938272088\n",
    "rs=4.7\n",
    "Q2=10\n",
    "y=0.2\n",
    "#rs  = np.sqrt(2*E_beam*M)\n",
    "E_beam=rs**2/2*M\n",
    "count=1\n",
    "print(E_beam)\n",
    "while y<1.01:\n",
    "    x   =Q2/rs**2/y\n",
    "    print(x,  \", \")\n",
    "    y+=0.1\n",
    "    count+=1\n",
    "print(count)\n",
    "#9195.0664624"
   ]
  },
  {
   "cell_type": "code",
   "execution_count": 2,
   "id": "worldwide-rolling",
   "metadata": {},
   "outputs": [
    {
     "data": {
      "text/plain": [
       "1.2124049151550615"
      ]
     },
     "execution_count": 2,
     "metadata": {},
     "output_type": "execute_result"
    }
   ],
   "source": [
    "2.072e-03/1.709e-03# 1.352e-03"
   ]
  },
  {
   "cell_type": "code",
   "execution_count": 3,
   "id": "infrared-yugoslavia",
   "metadata": {},
   "outputs": [
    {
     "name": "stdout",
     "output_type": "stream",
     "text": [
      "1\n",
      "2\n",
      "3\n",
      "4\n",
      "5\n",
      "6\n",
      "7\n",
      "8\n",
      "9\n",
      "10\n"
     ]
    }
   ],
   "source": [
    "def while1():\n",
    "    x = 0\n",
    "    while 1:\n",
    "        x += 1\n",
    "        print(x)\n",
    "        if x == 10:\n",
    "            break\n",
    "    \n",
    "#while1()            \n"
   ]
  },
  {
   "cell_type": "code",
   "execution_count": null,
   "id": "possible-offense",
   "metadata": {},
   "outputs": [],
   "source": []
  }
 ],
 "metadata": {
  "kernelspec": {
   "display_name": "Python 3",
   "language": "python",
   "name": "python3"
  },
  "language_info": {
   "codemirror_mode": {
    "name": "ipython",
    "version": 3
   },
   "file_extension": ".py",
   "mimetype": "text/x-python",
   "name": "python",
   "nbconvert_exporter": "python",
   "pygments_lexer": "ipython3",
   "version": "3.8.6"
  }
 },
 "nbformat": 4,
 "nbformat_minor": 5
}
