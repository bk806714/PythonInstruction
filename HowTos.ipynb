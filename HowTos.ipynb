{
 "cells": [
  {
   "cell_type": "markdown",
   "id": "transparent-resort",
   "metadata": {},
   "source": [
    "## IMPORT LIBRARIES"
   ]
  },
  {
   "cell_type": "code",
   "execution_count": 6,
   "id": "sufficient-childhood",
   "metadata": {},
   "outputs": [],
   "source": [
    "import sys,os,time\n",
    "import numpy as np\n",
    "import pandas as pd\n",
    "os.environ['MPLCONFIGDIR'] = \"/w/halla-scshelf2102/solid/bishnu/RC_plots/pol_Bishnu/\"\n",
    "#import matplotlib as plt\n",
    "import matplotlib.pyplot as plt\n",
    "plt.rc('text',usetex=True)\n",
    "plt.rc('font', family='Times Roman')\n",
    "plt.rc('font',weight='bold')\n",
    "plt.rcParams['axes.linewidth'] = 1\n",
    "\n",
    "\n",
    "plt.rcParams[\"font.weight\"] = \"bold\"\n",
    "plt.rcParams[\"axes.labelweight\"] = \"bold\"\n",
    "plt.rcParams['font.family'] = \"Times Roman\"\n",
    "\n",
    "plt.rcParams['xtick.major.pad'] = 2\n",
    "plt.rcParams['ytick.major.pad'] = 0\n",
    "plt.rcParams['text.latex.preamble']=r\"\\usepackage{bm} \\usepackage{amsmath}\"\n",
    "from matplotlib.legend_handler import HandlerLine2D\n",
    "from matplotlib.colors import LogNorm"
   ]
  },
  {
   "cell_type": "markdown",
   "id": "eight-relative",
   "metadata": {},
   "source": [
    "##  Read a TEXT FILE IN PANDAS"
   ]
  },
  {
   "cell_type": "code",
   "execution_count": 7,
   "id": "prepared-rally",
   "metadata": {},
   "outputs": [
    {
     "data": {
      "text/html": [
       "<div>\n",
       "<style scoped>\n",
       "    .dataframe tbody tr th:only-of-type {\n",
       "        vertical-align: middle;\n",
       "    }\n",
       "\n",
       "    .dataframe tbody tr th {\n",
       "        vertical-align: top;\n",
       "    }\n",
       "\n",
       "    .dataframe thead th {\n",
       "        text-align: right;\n",
       "    }\n",
       "</style>\n",
       "<table border=\"1\" class=\"dataframe\">\n",
       "  <thead>\n",
       "    <tr style=\"text-align: right;\">\n",
       "      <th></th>\n",
       "      <th>1</th>\n",
       "      <th>2</th>\n",
       "      <th>3</th>\n",
       "      <th>4</th>\n",
       "      <th>5</th>\n",
       "      <th>6</th>\n",
       "      <th>7</th>\n",
       "      <th>8</th>\n",
       "      <th>9</th>\n",
       "      <th>10</th>\n",
       "      <th>...</th>\n",
       "      <th>51</th>\n",
       "      <th>52</th>\n",
       "      <th>53</th>\n",
       "      <th>54</th>\n",
       "      <th>55</th>\n",
       "      <th>56</th>\n",
       "      <th>57</th>\n",
       "      <th>58</th>\n",
       "      <th>59</th>\n",
       "      <th>60</th>\n",
       "    </tr>\n",
       "    <tr>\n",
       "      <th>0</th>\n",
       "      <th></th>\n",
       "      <th></th>\n",
       "      <th></th>\n",
       "      <th></th>\n",
       "      <th></th>\n",
       "      <th></th>\n",
       "      <th></th>\n",
       "      <th></th>\n",
       "      <th></th>\n",
       "      <th></th>\n",
       "      <th></th>\n",
       "      <th></th>\n",
       "      <th></th>\n",
       "      <th></th>\n",
       "      <th></th>\n",
       "      <th></th>\n",
       "      <th></th>\n",
       "      <th></th>\n",
       "      <th></th>\n",
       "      <th></th>\n",
       "      <th></th>\n",
       "    </tr>\n",
       "  </thead>\n",
       "  <tbody>\n",
       "    <tr>\n",
       "      <th>0</th>\n",
       "      <td>0.05</td>\n",
       "      <td>0.00</td>\n",
       "      <td>0.00</td>\n",
       "      <td>0.00</td>\n",
       "      <td>0.00</td>\n",
       "      <td>1.47</td>\n",
       "      <td>0.00</td>\n",
       "      <td>0.00</td>\n",
       "      <td>0.0</td>\n",
       "      <td>0.00</td>\n",
       "      <td>...</td>\n",
       "      <td>0.05</td>\n",
       "      <td>0.0</td>\n",
       "      <td>3.87</td>\n",
       "      <td>0.00</td>\n",
       "      <td>0.0</td>\n",
       "      <td>0.00</td>\n",
       "      <td>0.00</td>\n",
       "      <td>0.0</td>\n",
       "      <td>0.20</td>\n",
       "      <td>0.53</td>\n",
       "    </tr>\n",
       "    <tr>\n",
       "      <th>1</th>\n",
       "      <td>0.00</td>\n",
       "      <td>0.00</td>\n",
       "      <td>0.00</td>\n",
       "      <td>1.35</td>\n",
       "      <td>0.00</td>\n",
       "      <td>0.00</td>\n",
       "      <td>0.00</td>\n",
       "      <td>0.00</td>\n",
       "      <td>0.0</td>\n",
       "      <td>0.00</td>\n",
       "      <td>...</td>\n",
       "      <td>0.00</td>\n",
       "      <td>0.0</td>\n",
       "      <td>1.20</td>\n",
       "      <td>0.14</td>\n",
       "      <td>0.0</td>\n",
       "      <td>2.73</td>\n",
       "      <td>0.00</td>\n",
       "      <td>0.0</td>\n",
       "      <td>0.23</td>\n",
       "      <td>0.64</td>\n",
       "    </tr>\n",
       "    <tr>\n",
       "      <th>2</th>\n",
       "      <td>0.00</td>\n",
       "      <td>0.00</td>\n",
       "      <td>0.00</td>\n",
       "      <td>0.00</td>\n",
       "      <td>0.00</td>\n",
       "      <td>0.00</td>\n",
       "      <td>0.00</td>\n",
       "      <td>0.00</td>\n",
       "      <td>0.0</td>\n",
       "      <td>0.00</td>\n",
       "      <td>...</td>\n",
       "      <td>0.00</td>\n",
       "      <td>0.0</td>\n",
       "      <td>0.00</td>\n",
       "      <td>0.00</td>\n",
       "      <td>0.0</td>\n",
       "      <td>0.93</td>\n",
       "      <td>0.00</td>\n",
       "      <td>0.0</td>\n",
       "      <td>0.20</td>\n",
       "      <td>0.00</td>\n",
       "    </tr>\n",
       "    <tr>\n",
       "      <th>3</th>\n",
       "      <td>0.14</td>\n",
       "      <td>0.00</td>\n",
       "      <td>0.00</td>\n",
       "      <td>0.00</td>\n",
       "      <td>0.00</td>\n",
       "      <td>0.00</td>\n",
       "      <td>3.02</td>\n",
       "      <td>0.00</td>\n",
       "      <td>0.0</td>\n",
       "      <td>0.08</td>\n",
       "      <td>...</td>\n",
       "      <td>0.00</td>\n",
       "      <td>0.0</td>\n",
       "      <td>0.00</td>\n",
       "      <td>0.00</td>\n",
       "      <td>0.0</td>\n",
       "      <td>0.32</td>\n",
       "      <td>0.00</td>\n",
       "      <td>0.0</td>\n",
       "      <td>0.00</td>\n",
       "      <td>1.52</td>\n",
       "    </tr>\n",
       "    <tr>\n",
       "      <th>4</th>\n",
       "      <td>0.15</td>\n",
       "      <td>1.29</td>\n",
       "      <td>0.08</td>\n",
       "      <td>0.00</td>\n",
       "      <td>0.14</td>\n",
       "      <td>0.21</td>\n",
       "      <td>0.12</td>\n",
       "      <td>0.12</td>\n",
       "      <td>0.0</td>\n",
       "      <td>0.26</td>\n",
       "      <td>...</td>\n",
       "      <td>0.00</td>\n",
       "      <td>0.0</td>\n",
       "      <td>0.00</td>\n",
       "      <td>0.06</td>\n",
       "      <td>0.0</td>\n",
       "      <td>0.00</td>\n",
       "      <td>0.29</td>\n",
       "      <td>0.0</td>\n",
       "      <td>0.00</td>\n",
       "      <td>0.00</td>\n",
       "    </tr>\n",
       "  </tbody>\n",
       "</table>\n",
       "<p>5 rows × 60 columns</p>\n",
       "</div>"
      ],
      "text/plain": [
       "     1     2     3     4     5     6     7     8    9     10  ...    51   52  \\\n",
       "0                                                             ...              \n",
       "0  0.05  0.00  0.00  0.00  0.00  1.47  0.00  0.00  0.0  0.00  ...  0.05  0.0   \n",
       "1  0.00  0.00  0.00  1.35  0.00  0.00  0.00  0.00  0.0  0.00  ...  0.00  0.0   \n",
       "2  0.00  0.00  0.00  0.00  0.00  0.00  0.00  0.00  0.0  0.00  ...  0.00  0.0   \n",
       "3  0.14  0.00  0.00  0.00  0.00  0.00  3.02  0.00  0.0  0.08  ...  0.00  0.0   \n",
       "4  0.15  1.29  0.08  0.00  0.14  0.21  0.12  0.12  0.0  0.26  ...  0.00  0.0   \n",
       "\n",
       "     53    54   55    56    57   58    59    60  \n",
       "0                                                \n",
       "0  3.87  0.00  0.0  0.00  0.00  0.0  0.20  0.53  \n",
       "1  1.20  0.14  0.0  2.73  0.00  0.0  0.23  0.64  \n",
       "2  0.00  0.00  0.0  0.93  0.00  0.0  0.20  0.00  \n",
       "3  0.00  0.00  0.0  0.32  0.00  0.0  0.00  1.52  \n",
       "4  0.00  0.06  0.0  0.00  0.29  0.0  0.00  0.00  \n",
       "\n",
       "[5 rows x 60 columns]"
      ]
     },
     "execution_count": 7,
     "metadata": {},
     "output_type": "execute_result"
    }
   ],
   "source": [
    "pathmlFile=\"./\"\n",
    "filename370Signal=\"signalLED_bgLED370_run2337_fadc.ml\"\n",
    "data370Signal=pd.read_csv(f\"{pathmlFile}{filename370Signal}\", delimiter=r\"\\s+\",index_col=0, header=None)\n",
    "data370Signal.head()"
   ]
  },
  {
   "cell_type": "markdown",
   "id": "quiet-provider",
   "metadata": {},
   "source": [
    "## CHECK THE DATA TYPES"
   ]
  },
  {
   "cell_type": "code",
   "execution_count": 5,
   "id": "freelance-korean",
   "metadata": {},
   "outputs": [],
   "source": [
    "data370Signal.dtypes"
   ]
  },
  {
   "cell_type": "markdown",
   "id": "phantom-shadow",
   "metadata": {},
   "source": [
    "## CONVERT THE STRING OR OBJECT INTO NUMERIC"
   ]
  },
  {
   "cell_type": "code",
   "execution_count": null,
   "id": "greatest-novelty",
   "metadata": {},
   "outputs": [],
   "source": [
    "dataDunUnp = dataDunUnp.apply(pd.to_numeric, errors='coerce')\n",
    "\n",
    "## CONVERT ONE BY ONE COLUMN\n",
    "dataDunUnp['qt_Q'] = dataDunUnp['qt_Q'].astype(float)"
   ]
  },
  {
   "cell_type": "markdown",
   "id": "parallel-brighton",
   "metadata": {},
   "source": [
    "## ADD A NEW COLUMN WITH ADD ALL THE ROWS INTO A NEW COLUMN"
   ]
  },
  {
   "cell_type": "code",
   "execution_count": 8,
   "id": "comfortable-parks",
   "metadata": {},
   "outputs": [],
   "source": [
    "data370Signal[\"sum370Signal\"] = data370Signal.sum(axis=1)"
   ]
  },
  {
   "cell_type": "markdown",
   "id": "bearing-lindsay",
   "metadata": {},
   "source": [
    "## GET MAXIMUM OF THE ROW INTO A NEW COLUMN"
   ]
  },
  {
   "cell_type": "code",
   "execution_count": 10,
   "id": "pleased-macedonia",
   "metadata": {},
   "outputs": [],
   "source": [
    "data370Signal[\"maxVal\"]= data370Signal.max(axis=1)"
   ]
  },
  {
   "cell_type": "markdown",
   "id": "unavailable-batman",
   "metadata": {},
   "source": [
    "## COSMITIC OF THE PLT.HIST LIKE MAKE MULTIPLE PLOTS "
   ]
  },
  {
   "cell_type": "code",
   "execution_count": 12,
   "id": "chronic-annex",
   "metadata": {},
   "outputs": [
    {
     "data": {
      "text/plain": [
       "<matplotlib.legend.Legend at 0x7fb5449574f0>"
      ]
     },
     "execution_count": 12,
     "metadata": {},
     "output_type": "execute_result"
    },
    {
     "data": {
      "image/png": "[encoded data removed]",
      "text/plain": [
       "<Figure size 720x576 with 1 Axes>"
      ]
     },
     "metadata": {
      "needs_background": "light"
     },
     "output_type": "display_data"
    }
   ],
   "source": [
    "max_range=80\n",
    "ax=data370Signal.hist(column='maxVal', bins=max_range,range=(1,max_range), color='r', ylabelsize=20,   xlabelsize=20, figsize=(10,8))\n",
    "plt.ylabel(\"Probablity\", size=15)\n",
    "plt.xlabel(\"NPE\",fontsize=30)\n",
    "labels=['kera']\n",
    "plt.title(\"\")\n",
    "plt.xlim(0,90)\n",
    "plt.ylim(0,1200)\n",
    "plt.xticks(fontsize=20)\n",
    "plt.legend(labels, fontsize=20)"
   ]
  },
  {
   "cell_type": "code",
   "execution_count": null,
   "id": "planned-excellence",
   "metadata": {},
   "outputs": [],
   "source": []
  }
 ],
 "metadata": {
  "kernelspec": {
   "display_name": "Python 3",
   "language": "python",
   "name": "python3"
  },
  "language_info": {
   "codemirror_mode": {
    "name": "ipython",
    "version": 3
   },
   "file_extension": ".py",
   "mimetype": "text/x-python",
   "name": "python",
   "nbconvert_exporter": "python",
   "pygments_lexer": "ipython3",
   "version": "3.8.6"
  }
 },
 "nbformat": 4,
 "nbformat_minor": 5
}
