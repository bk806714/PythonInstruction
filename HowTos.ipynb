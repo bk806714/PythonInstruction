{
 "cells": [
  {
   "cell_type": "markdown",
   "id": "referenced-worcester",
   "metadata": {},
   "source": [
    "## IMPORT LIBRARIES"
   ]
  },
  {
   "cell_type": "code",
   "execution_count": 6,
   "id": "satisfied-blade",
   "metadata": {},
   "outputs": [],
   "source": [
    "import sys,os,time\n",
    "import numpy as np\n",
    "import pandas as pd\n",
    "os.environ['MPLCONFIGDIR'] = \"/w/halla-scshelf2102/solid/bishnu/RC_plots/pol_Bishnu/\"\n",
    "#import matplotlib as plt\n",
    "import matplotlib.pyplot as plt\n",
    "plt.rc('text',usetex=True)\n",
    "plt.rc('font', family='Times Roman')\n",
    "plt.rc('font',weight='bold')\n",
    "plt.rcParams['axes.linewidth'] = 1\n",
    "\n",
    "\n",
    "plt.rcParams[\"font.weight\"] = \"bold\"\n",
    "plt.rcParams[\"axes.labelweight\"] = \"bold\"\n",
    "plt.rcParams['font.family'] = \"Times Roman\"\n",
    "\n",
    "plt.rcParams['xtick.major.pad'] = 2\n",
    "plt.rcParams['ytick.major.pad'] = 0\n",
    "plt.rcParams['text.latex.preamble']=r\"\\usepackage{bm} \\usepackage{amsmath}\"\n",
    "from matplotlib.legend_handler import HandlerLine2D\n",
    "from matplotlib.colors import LogNorm"
   ]
  },
  {
   "cell_type": "markdown",
   "id": "suffering-fraction",
   "metadata": {},
   "source": [
    "##  Read a TEXT FILE IN PANDAS"
   ]
  },
  {
   "cell_type": "code",
   "execution_count": 7,
   "id": "pregnant-overall",
   "metadata": {},
   "outputs": [
    {
     "data": {
      "text/html": [
       "<div>\n",
       "<style scoped>\n",
       "    .dataframe tbody tr th:only-of-type {\n",
       "        vertical-align: middle;\n",
       "    }\n",
       "\n",
       "    .dataframe tbody tr th {\n",
       "        vertical-align: top;\n",
       "    }\n",
       "\n",
       "    .dataframe thead th {\n",
       "        text-align: right;\n",
       "    }\n",
       "</style>\n",
       "<table border=\"1\" class=\"dataframe\">\n",
       "  <thead>\n",
       "    <tr style=\"text-align: right;\">\n",
       "      <th></th>\n",
       "      <th>1</th>\n",
       "      <th>2</th>\n",
       "      <th>3</th>\n",
       "      <th>4</th>\n",
       "      <th>5</th>\n",
       "      <th>6</th>\n",
       "      <th>7</th>\n",
       "      <th>8</th>\n",
       "      <th>9</th>\n",
       "      <th>10</th>\n",
       "      <th>...</th>\n",
       "      <th>51</th>\n",
       "      <th>52</th>\n",
       "      <th>53</th>\n",
       "      <th>54</th>\n",
       "      <th>55</th>\n",
       "      <th>56</th>\n",
       "      <th>57</th>\n",
       "      <th>58</th>\n",
       "      <th>59</th>\n",
       "      <th>60</th>\n",
       "    </tr>\n",
       "    <tr>\n",
       "      <th>0</th>\n",
       "      <th></th>\n",
       "      <th></th>\n",
       "      <th></th>\n",
       "      <th></th>\n",
       "      <th></th>\n",
       "      <th></th>\n",
       "      <th></th>\n",
       "      <th></th>\n",
       "      <th></th>\n",
       "      <th></th>\n",
       "      <th></th>\n",
       "      <th></th>\n",
       "      <th></th>\n",
       "      <th></th>\n",
       "      <th></th>\n",
       "      <th></th>\n",
       "      <th></th>\n",
       "      <th></th>\n",
       "      <th></th>\n",
       "      <th></th>\n",
       "      <th></th>\n",
       "    </tr>\n",
       "  </thead>\n",
       "  <tbody>\n",
       "    <tr>\n",
       "      <th>0</th>\n",
       "      <td>0.05</td>\n",
       "      <td>0.00</td>\n",
       "      <td>0.00</td>\n",
       "      <td>0.00</td>\n",
       "      <td>0.00</td>\n",
       "      <td>1.47</td>\n",
       "      <td>0.00</td>\n",
       "      <td>0.00</td>\n",
       "      <td>0.0</td>\n",
       "      <td>0.00</td>\n",
       "      <td>...</td>\n",
       "      <td>0.05</td>\n",
       "      <td>0.0</td>\n",
       "      <td>3.87</td>\n",
       "      <td>0.00</td>\n",
       "      <td>0.0</td>\n",
       "      <td>0.00</td>\n",
       "      <td>0.00</td>\n",
       "      <td>0.0</td>\n",
       "      <td>0.20</td>\n",
       "      <td>0.53</td>\n",
       "    </tr>\n",
       "    <tr>\n",
       "      <th>1</th>\n",
       "      <td>0.00</td>\n",
       "      <td>0.00</td>\n",
       "      <td>0.00</td>\n",
       "      <td>1.35</td>\n",
       "      <td>0.00</td>\n",
       "      <td>0.00</td>\n",
       "      <td>0.00</td>\n",
       "      <td>0.00</td>\n",
       "      <td>0.0</td>\n",
       "      <td>0.00</td>\n",
       "      <td>...</td>\n",
       "      <td>0.00</td>\n",
       "      <td>0.0</td>\n",
       "      <td>1.20</td>\n",
       "      <td>0.14</td>\n",
       "      <td>0.0</td>\n",
       "      <td>2.73</td>\n",
       "      <td>0.00</td>\n",
       "      <td>0.0</td>\n",
       "      <td>0.23</td>\n",
       "      <td>0.64</td>\n",
       "    </tr>\n",
       "    <tr>\n",
       "      <th>2</th>\n",
       "      <td>0.00</td>\n",
       "      <td>0.00</td>\n",
       "      <td>0.00</td>\n",
       "      <td>0.00</td>\n",
       "      <td>0.00</td>\n",
       "      <td>0.00</td>\n",
       "      <td>0.00</td>\n",
       "      <td>0.00</td>\n",
       "      <td>0.0</td>\n",
       "      <td>0.00</td>\n",
       "      <td>...</td>\n",
       "      <td>0.00</td>\n",
       "      <td>0.0</td>\n",
       "      <td>0.00</td>\n",
       "      <td>0.00</td>\n",
       "      <td>0.0</td>\n",
       "      <td>0.93</td>\n",
       "      <td>0.00</td>\n",
       "      <td>0.0</td>\n",
       "      <td>0.20</td>\n",
       "      <td>0.00</td>\n",
       "    </tr>\n",
       "    <tr>\n",
       "      <th>3</th>\n",
       "      <td>0.14</td>\n",
       "      <td>0.00</td>\n",
       "      <td>0.00</td>\n",
       "      <td>0.00</td>\n",
       "      <td>0.00</td>\n",
       "      <td>0.00</td>\n",
       "      <td>3.02</td>\n",
       "      <td>0.00</td>\n",
       "      <td>0.0</td>\n",
       "      <td>0.08</td>\n",
       "      <td>...</td>\n",
       "      <td>0.00</td>\n",
       "      <td>0.0</td>\n",
       "      <td>0.00</td>\n",
       "      <td>0.00</td>\n",
       "      <td>0.0</td>\n",
       "      <td>0.32</td>\n",
       "      <td>0.00</td>\n",
       "      <td>0.0</td>\n",
       "      <td>0.00</td>\n",
       "      <td>1.52</td>\n",
       "    </tr>\n",
       "    <tr>\n",
       "      <th>4</th>\n",
       "      <td>0.15</td>\n",
       "      <td>1.29</td>\n",
       "      <td>0.08</td>\n",
       "      <td>0.00</td>\n",
       "      <td>0.14</td>\n",
       "      <td>0.21</td>\n",
       "      <td>0.12</td>\n",
       "      <td>0.12</td>\n",
       "      <td>0.0</td>\n",
       "      <td>0.26</td>\n",
       "      <td>...</td>\n",
       "      <td>0.00</td>\n",
       "      <td>0.0</td>\n",
       "      <td>0.00</td>\n",
       "      <td>0.06</td>\n",
       "      <td>0.0</td>\n",
       "      <td>0.00</td>\n",
       "      <td>0.29</td>\n",
       "      <td>0.0</td>\n",
       "      <td>0.00</td>\n",
       "      <td>0.00</td>\n",
       "    </tr>\n",
       "  </tbody>\n",
       "</table>\n",
       "<p>5 rows × 60 columns</p>\n",
       "</div>"
      ],
      "text/plain": [
       "     1     2     3     4     5     6     7     8    9     10  ...    51   52  \\\n",
       "0                                                             ...              \n",
       "0  0.05  0.00  0.00  0.00  0.00  1.47  0.00  0.00  0.0  0.00  ...  0.05  0.0   \n",
       "1  0.00  0.00  0.00  1.35  0.00  0.00  0.00  0.00  0.0  0.00  ...  0.00  0.0   \n",
       "2  0.00  0.00  0.00  0.00  0.00  0.00  0.00  0.00  0.0  0.00  ...  0.00  0.0   \n",
       "3  0.14  0.00  0.00  0.00  0.00  0.00  3.02  0.00  0.0  0.08  ...  0.00  0.0   \n",
       "4  0.15  1.29  0.08  0.00  0.14  0.21  0.12  0.12  0.0  0.26  ...  0.00  0.0   \n",
       "\n",
       "     53    54   55    56    57   58    59    60  \n",
       "0                                                \n",
       "0  3.87  0.00  0.0  0.00  0.00  0.0  0.20  0.53  \n",
       "1  1.20  0.14  0.0  2.73  0.00  0.0  0.23  0.64  \n",
       "2  0.00  0.00  0.0  0.93  0.00  0.0  0.20  0.00  \n",
       "3  0.00  0.00  0.0  0.32  0.00  0.0  0.00  1.52  \n",
       "4  0.00  0.06  0.0  0.00  0.29  0.0  0.00  0.00  \n",
       "\n",
       "[5 rows x 60 columns]"
      ]
     },
     "execution_count": 7,
     "metadata": {},
     "output_type": "execute_result"
    }
   ],
   "source": [
    "pathmlFile=\"./\"\n",
    "filename370Signal=\"signalLED_bgLED370_run2337_fadc.ml\"\n",
    "data370Signal=pd.read_csv(f\"{pathmlFile}{filename370Signal}\", delimiter=r\"\\s+\",index_col=0, header=None)\n",
    "data370Signal.head()"
   ]
  },
  {
   "cell_type": "markdown",
   "id": "vulnerable-cosmetic",
   "metadata": {},
   "source": [
    "## CHECK THE DATA TYPES"
   ]
  },
  {
   "cell_type": "code",
   "execution_count": 5,
   "id": "functioning-startup",
   "metadata": {},
   "outputs": [],
   "source": [
    "data370Signal.dtypes"
   ]
  },
  {
   "cell_type": "markdown",
   "id": "internal-senator",
   "metadata": {},
   "source": [
    "## CONVERT THE STRING OR OBJECT INTO NUMERIC"
   ]
  },
  {
   "cell_type": "code",
   "execution_count": null,
   "id": "sound-office",
   "metadata": {},
   "outputs": [],
   "source": [
    "dataDunUnp = dataDunUnp.apply(pd.to_numeric, errors='coerce')\n",
    "\n",
    "## CONVERT ONE BY ONE COLUMN\n",
    "dataDunUnp['qt_Q'] = dataDunUnp['qt_Q'].astype(float)"
   ]
  },
  {
   "cell_type": "markdown",
   "id": "twenty-transcript",
   "metadata": {},
   "source": [
    "## ADD A NEW COLUMN WITH ADD ALL THE ROWS INTO A NEW COLUMN"
   ]
  },
  {
   "cell_type": "code",
   "execution_count": 8,
   "id": "after-techno",
   "metadata": {},
   "outputs": [],
   "source": [
    "data370Signal[\"sum370Signal\"] = data370Signal.sum(axis=1)"
   ]
  },
  {
   "cell_type": "markdown",
   "id": "weighted-redhead",
   "metadata": {},
   "source": [
    "## GET MAXIMUM OF THE ROW INTO A NEW COLUMN"
   ]
  },
  {
   "cell_type": "code",
   "execution_count": 10,
   "id": "killing-wednesday",
   "metadata": {},
   "outputs": [],
   "source": [
    "data370Signal[\"maxVal\"]= data370Signal.max(axis=1)"
   ]
  },
  {
   "cell_type": "markdown",
   "id": "outside-girlfriend",
   "metadata": {},
   "source": [
    "## COSMITIC OF THE PLT.HIST LIKE MAKE MULTIPLE PLOTS "
   ]
  },
  {
   "cell_type": "code",
   "execution_count": 12,
   "id": "proprietary-symposium",
   "metadata": {},
   "outputs": [
    {
     "data": {
      "text/plain": [
       "<matplotlib.legend.Legend at 0x7fb5449574f0>"
      ]
     },
     "execution_count": 12,
     "metadata": {},
     "output_type": "execute_result"
    },
    {
     "data": {
      "image/png": "[encoded data removed]",
      "text/plain": [
       "<Figure size 720x576 with 1 Axes>"
      ]
     },
     "metadata": {
      "needs_background": "light"
     },
     "output_type": "display_data"
    }
   ],
   "source": [
    "max_range=80\n",
    "ax=data370Signal.hist(column='maxVal', bins=max_range,range=(1,max_range), color='r', ylabelsize=20,   xlabelsize=20, figsize=(10,8))\n",
    "plt.ylabel(\"Probablity\", size=15)\n",
    "plt.xlabel(\"NPE\",fontsize=30)\n",
    "labels=['kera']\n",
    "plt.title(\"\")\n",
    "plt.xlim(0,90)\n",
    "plt.ylim(0,1200)\n",
    "plt.xticks(fontsize=20)\n",
    "plt.legend(labels, fontsize=20)"
   ]
  },
  {
   "cell_type": "markdown",
   "id": "spare-house",
   "metadata": {},
   "source": [
    "## FORMATTING "
   ]
  },
  {
   "cell_type": "code",
   "execution_count": 15,
   "id": "international-annotation",
   "metadata": {},
   "outputs": [
    {
     "data": {
      "text/plain": [
       "qt      float64\n",
       "born    float64\n",
       "rc      float64\n",
       "err     float64\n",
       "dtype: object"
      ]
     },
     "execution_count": 15,
     "metadata": {},
     "output_type": "execute_result"
    }
   ],
   "source": [
    "def BisToDun(Q2):\n",
    "    #conversion=0\n",
    "    if Q2==8 or Q2==100:\n",
    "        conversion=2\n",
    "    elif Q2==15 or Q2==25:\n",
    "        conversion=3\n",
    "    elif Q2==9 or Q2==2:\n",
    "        conversion=1\n",
    "    else: print('Check your Q2 and converstion file')\n",
    "    return conversion\n",
    "Asy=\"Col\"\n",
    "Lab=\"EIC\"\n",
    "Q2=25\n",
    "conversion=BisToDun(Q2)\n",
    "FilePathBis=\"/w/halla-scshelf2102/solid/bishnu/RC_plots/pol_Bishnu/\"\n",
    "fileNameBishnuUnp=\"Unp_{}{}_const_alpha.txt\".format(Lab,conversion)\n",
    "dataBisUnp=pd.read_csv(f\"{FilePathBis}{fileNameBishnuUnp}\", delimiter=r\"\\s+\",names=[\"qt\",\"born\", \"rc\", \"err\"])\n",
    "dataBisUnp.head()\n",
    "dataBisUnp.dtypes\n"
   ]
  },
  {
   "cell_type": "markdown",
   "id": "wanted-synthesis",
   "metadata": {},
   "source": [
    "## Changing the data types to numberic "
   ]
  },
  {
   "cell_type": "code",
   "execution_count": null,
   "id": "split-meaning",
   "metadata": {},
   "outputs": [],
   "source": [
    "dataDunUnp = dataDunUnp.apply(pd.to_numeric, errors='coerce')\n"
   ]
  },
  {
   "cell_type": "markdown",
   "id": "acting-lying",
   "metadata": {},
   "source": [
    "### Adding new lines of columns in existing datafiles  (Adding QtDun from one dataframe to \"dataBisUnp\" on Fourth column"
   ]
  },
  {
   "cell_type": "code",
   "execution_count": null,
   "id": "everyday-distribution",
   "metadata": {},
   "outputs": [],
   "source": [
    "QtDun=dataDun[\"qt_to_Q\"]\n",
    "dataBisUnp.insert(4, \"RCDu\", RcDun)"
   ]
  },
  {
   "cell_type": "code",
   "execution_count": 17,
   "id": "elegant-jacob",
   "metadata": {},
   "outputs": [
    {
     "data": {
      "text/plain": [
       "(array([-5.0e-05,  0.0e+00,  5.0e-05,  1.0e-04,  1.5e-04,  2.0e-04,\n",
       "         2.5e-04,  3.0e-04]),\n",
       " [Text(0, 0, ''),\n",
       "  Text(0, 0, ''),\n",
       "  Text(0, 0, ''),\n",
       "  Text(0, 0, ''),\n",
       "  Text(0, 0, ''),\n",
       "  Text(0, 0, ''),\n",
       "  Text(0, 0, ''),\n",
       "  Text(0, 0, '')])"
      ]
     },
     "execution_count": 17,
     "metadata": {},
     "output_type": "execute_result"
    },
    {
     "data": {
      "image/png": "[encoded data removed]",
      "text/plain": [
       "<Figure size 1080x720 with 1 Axes>"
      ]
     },
     "metadata": {
      "needs_background": "light"
     },
     "output_type": "display_data"
    }
   ],
   "source": [
    "ax=dataBisUnp.plot(x='qt', y='born', color=\"red\",marker='*',label=\"Factorized\", figsize=(15,10))\n",
    "ax.set_xlabel(\"$q_{T}$/Q\",fontsize=30)\n",
    "ax.set_ylabel(\"Born Cross-section\",fontsize=30)\n",
    "plt.legend(fontsize=20)\n",
    "plt.xticks(fontsize=20)\n",
    "plt.yticks(fontsize=20)\n",
    "plt.yticks(fontweight='bold')"
   ]
  },
  {
   "cell_type": "code",
   "execution_count": null,
   "id": "addressed-lincoln",
   "metadata": {},
   "outputs": [],
   "source": []
  }
 ],
 "metadata": {
  "kernelspec": {
   "display_name": "Python 3",
   "language": "python",
   "name": "python3"
  },
  "language_info": {
   "codemirror_mode": {
    "name": "ipython",
    "version": 3
   },
   "file_extension": ".py",
   "mimetype": "text/x-python",
   "name": "python",
   "nbconvert_exporter": "python",
   "pygments_lexer": "ipython3",
   "version": "3.8.6"
  }
 },
 "nbformat": 4,
 "nbformat_minor": 5
}
